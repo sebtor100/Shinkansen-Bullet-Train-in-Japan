{
  "nbformat": 4,
  "nbformat_minor": 0,
  "metadata": {
    "colab": {
      "provenance": []
    },
    "kernelspec": {
      "name": "python3",
      "display_name": "Python 3"
    },
    "language_info": {
      "name": "python"
    }
  },
  "cells": [
    {
      "cell_type": "code",
      "source": [
        "import pandas as pd\n",
        "from sklearn.model_selection import train_test_split\n",
        "from sklearn.ensemble import RandomForestClassifier\n",
        "from sklearn.impute import KNNImputer\n",
        "from sklearn.metrics import accuracy_score"
      ],
      "metadata": {
        "id": "7vKR-mKmD0g_"
      },
      "execution_count": null,
      "outputs": []
    },
    {
      "cell_type": "code",
      "source": [
        "from google.colab import drive\n",
        "\n",
        "# Mount Google Drive\n",
        "drive.mount('/content/drive')"
      ],
      "metadata": {
        "colab": {
          "base_uri": "https://localhost:8080/"
        },
        "id": "aZLUe0h9DbaW",
        "outputId": "fc1de706-042c-4e1d-94d0-13d03dc257a3"
      },
      "execution_count": null,
      "outputs": [
        {
          "output_type": "stream",
          "name": "stdout",
          "text": [
            "Mounted at /content/drive\n"
          ]
        }
      ]
    },
    {
      "cell_type": "code",
      "source": [
        "# Load data\n",
        "# Load the training data\n",
        "train_travel = pd.read_csv('/content/drive/MyDrive/MIT Applied Data Science /11. Hackathons/Shinkansen Bullet Train in Japan/Traveldata_train_.csv')\n",
        "train_survey = pd.read_csv('/content/drive/MyDrive/MIT Applied Data Science /11. Hackathons/Shinkansen Bullet Train in Japan/Surveydata_train_.csv')\n",
        "\n",
        "test_travel = pd.read_csv('/content/drive/MyDrive/MIT Applied Data Science /11. Hackathons/Shinkansen Bullet Train in Japan/Traveldata_test_.csv')\n",
        "test_survey = pd.read_csv('/content/drive/MyDrive/MIT Applied Data Science /11. Hackathons/Shinkansen Bullet Train in Japan/Surveydata_test_.csv')"
      ],
      "metadata": {
        "id": "Vg6EFknND2P3"
      },
      "execution_count": null,
      "outputs": []
    },
    {
      "cell_type": "code",
      "source": [
        "# Merge data\n",
        "train_data = pd.merge(train_survey, train_travel, on='ID', how='inner')\n",
        "test_data = pd.merge(test_survey, test_travel, on='ID', how='inner')\n",
        "\n",
        "# Data Cleaning and Preprocessing with KNN imputation\n",
        "numerical_columns = train_data.select_dtypes(include=['float64']).columns\n",
        "\n",
        "# Concatenate the train and test datasets before one-hot encoding\n",
        "combined_data = pd.concat([train_data, test_data], ignore_index=True)"
      ],
      "metadata": {
        "id": "BSLzm3TBD627"
      },
      "execution_count": null,
      "outputs": []
    },
    {
      "cell_type": "code",
      "source": [
        "# Impute missing values using KNN\n",
        "imputer = KNNImputer(n_neighbors=5)\n",
        "combined_data[numerical_columns] = imputer.fit_transform(combined_data[numerical_columns])\n",
        "\n"
      ],
      "metadata": {
        "id": "K9SkiwCHD9L4"
      },
      "execution_count": null,
      "outputs": []
    },
    {
      "cell_type": "code",
      "source": [
        "# Encode categorical variables using one-hot encoding\n",
        "combined_data = pd.get_dummies(combined_data, columns=[\"Gender\", \"Customer_Type\", \"Type_Travel\", \"Travel_Class\",\n",
        "                                                       'Seat_Comfort', 'Seat_Class', 'Arrival_Time_Convenient', 'Catering',\n",
        "                                                       'Platform_Location', 'Onboard_Wifi_Service', 'Onboard_Entertainment',\n",
        "                                                       'Online_Support', 'Ease_of_Online_Booking', 'Onboard_Service',\n",
        "                                                       'Legroom', 'Baggage_Handling', 'CheckIn_Service', 'Cleanliness',\n",
        "                                                       'Online_Boarding'])"
      ],
      "metadata": {
        "id": "dAZ4ki8fD-4S"
      },
      "execution_count": null,
      "outputs": []
    },
    {
      "cell_type": "code",
      "source": [
        "# Split the combined dataset back into train and test sets\n",
        "train_data = combined_data.iloc[:len(train_data), :]\n",
        "test_data = combined_data.iloc[len(train_data):, :]\n",
        "\n",
        "# Feature engineering (if necessary)\n",
        "\n",
        "# Train-test split\n",
        "X = train_data.drop(['ID', 'Overall_Experience'], axis=1)\n",
        "y = train_data['Overall_Experience']\n",
        "X_train, X_val, y_train, y_val = train_test_split(X, y, test_size=0.2, random_state=42)\n"
      ],
      "metadata": {
        "id": "-QKxHebKEEah"
      },
      "execution_count": null,
      "outputs": []
    },
    {
      "cell_type": "code",
      "source": [
        "# Build a Random Forest model (you can choose a different model)\n",
        "model = RandomForestClassifier()\n",
        "model.fit(X_train, y_train)"
      ],
      "metadata": {
        "colab": {
          "base_uri": "https://localhost:8080/",
          "height": 75
        },
        "id": "6Thh69nkEFSG",
        "outputId": "f2c617c6-d678-4437-a387-55840455bd5a"
      },
      "execution_count": null,
      "outputs": [
        {
          "output_type": "execute_result",
          "data": {
            "text/plain": [
              "RandomForestClassifier()"
            ],
            "text/html": [
              "<style>#sk-container-id-2 {color: black;background-color: white;}#sk-container-id-2 pre{padding: 0;}#sk-container-id-2 div.sk-toggleable {background-color: white;}#sk-container-id-2 label.sk-toggleable__label {cursor: pointer;display: block;width: 100%;margin-bottom: 0;padding: 0.3em;box-sizing: border-box;text-align: center;}#sk-container-id-2 label.sk-toggleable__label-arrow:before {content: \"▸\";float: left;margin-right: 0.25em;color: #696969;}#sk-container-id-2 label.sk-toggleable__label-arrow:hover:before {color: black;}#sk-container-id-2 div.sk-estimator:hover label.sk-toggleable__label-arrow:before {color: black;}#sk-container-id-2 div.sk-toggleable__content {max-height: 0;max-width: 0;overflow: hidden;text-align: left;background-color: #f0f8ff;}#sk-container-id-2 div.sk-toggleable__content pre {margin: 0.2em;color: black;border-radius: 0.25em;background-color: #f0f8ff;}#sk-container-id-2 input.sk-toggleable__control:checked~div.sk-toggleable__content {max-height: 200px;max-width: 100%;overflow: auto;}#sk-container-id-2 input.sk-toggleable__control:checked~label.sk-toggleable__label-arrow:before {content: \"▾\";}#sk-container-id-2 div.sk-estimator input.sk-toggleable__control:checked~label.sk-toggleable__label {background-color: #d4ebff;}#sk-container-id-2 div.sk-label input.sk-toggleable__control:checked~label.sk-toggleable__label {background-color: #d4ebff;}#sk-container-id-2 input.sk-hidden--visually {border: 0;clip: rect(1px 1px 1px 1px);clip: rect(1px, 1px, 1px, 1px);height: 1px;margin: -1px;overflow: hidden;padding: 0;position: absolute;width: 1px;}#sk-container-id-2 div.sk-estimator {font-family: monospace;background-color: #f0f8ff;border: 1px dotted black;border-radius: 0.25em;box-sizing: border-box;margin-bottom: 0.5em;}#sk-container-id-2 div.sk-estimator:hover {background-color: #d4ebff;}#sk-container-id-2 div.sk-parallel-item::after {content: \"\";width: 100%;border-bottom: 1px solid gray;flex-grow: 1;}#sk-container-id-2 div.sk-label:hover label.sk-toggleable__label {background-color: #d4ebff;}#sk-container-id-2 div.sk-serial::before {content: \"\";position: absolute;border-left: 1px solid gray;box-sizing: border-box;top: 0;bottom: 0;left: 50%;z-index: 0;}#sk-container-id-2 div.sk-serial {display: flex;flex-direction: column;align-items: center;background-color: white;padding-right: 0.2em;padding-left: 0.2em;position: relative;}#sk-container-id-2 div.sk-item {position: relative;z-index: 1;}#sk-container-id-2 div.sk-parallel {display: flex;align-items: stretch;justify-content: center;background-color: white;position: relative;}#sk-container-id-2 div.sk-item::before, #sk-container-id-2 div.sk-parallel-item::before {content: \"\";position: absolute;border-left: 1px solid gray;box-sizing: border-box;top: 0;bottom: 0;left: 50%;z-index: -1;}#sk-container-id-2 div.sk-parallel-item {display: flex;flex-direction: column;z-index: 1;position: relative;background-color: white;}#sk-container-id-2 div.sk-parallel-item:first-child::after {align-self: flex-end;width: 50%;}#sk-container-id-2 div.sk-parallel-item:last-child::after {align-self: flex-start;width: 50%;}#sk-container-id-2 div.sk-parallel-item:only-child::after {width: 0;}#sk-container-id-2 div.sk-dashed-wrapped {border: 1px dashed gray;margin: 0 0.4em 0.5em 0.4em;box-sizing: border-box;padding-bottom: 0.4em;background-color: white;}#sk-container-id-2 div.sk-label label {font-family: monospace;font-weight: bold;display: inline-block;line-height: 1.2em;}#sk-container-id-2 div.sk-label-container {text-align: center;}#sk-container-id-2 div.sk-container {/* jupyter's `normalize.less` sets `[hidden] { display: none; }` but bootstrap.min.css set `[hidden] { display: none !important; }` so we also need the `!important` here to be able to override the default hidden behavior on the sphinx rendered scikit-learn.org. See: https://github.com/scikit-learn/scikit-learn/issues/21755 */display: inline-block !important;position: relative;}#sk-container-id-2 div.sk-text-repr-fallback {display: none;}</style><div id=\"sk-container-id-2\" class=\"sk-top-container\"><div class=\"sk-text-repr-fallback\"><pre>RandomForestClassifier()</pre><b>In a Jupyter environment, please rerun this cell to show the HTML representation or trust the notebook. <br />On GitHub, the HTML representation is unable to render, please try loading this page with nbviewer.org.</b></div><div class=\"sk-container\" hidden><div class=\"sk-item\"><div class=\"sk-estimator sk-toggleable\"><input class=\"sk-toggleable__control sk-hidden--visually\" id=\"sk-estimator-id-2\" type=\"checkbox\" checked><label for=\"sk-estimator-id-2\" class=\"sk-toggleable__label sk-toggleable__label-arrow\">RandomForestClassifier</label><div class=\"sk-toggleable__content\"><pre>RandomForestClassifier()</pre></div></div></div></div></div>"
            ]
          },
          "metadata": {},
          "execution_count": 134
        }
      ]
    },
    {
      "cell_type": "code",
      "source": [
        "# Make predictions on the validation set\n",
        "val_predictions = model.predict(X_val)"
      ],
      "metadata": {
        "id": "umaG_9gYEMin"
      },
      "execution_count": null,
      "outputs": []
    },
    {
      "cell_type": "code",
      "source": [
        "# Evaluate the model\n",
        "accuracy = accuracy_score(y_val, val_predictions)\n",
        "print(f'Validation Accuracy: {accuracy}')"
      ],
      "metadata": {
        "colab": {
          "base_uri": "https://localhost:8080/"
        },
        "id": "J2MG_JUTEPXy",
        "outputId": "8ee99131-4c02-4f17-8a4b-2b7511f3c42b"
      },
      "execution_count": null,
      "outputs": [
        {
          "output_type": "stream",
          "name": "stdout",
          "text": [
            "Validation Accuracy: 0.953697817334181\n"
          ]
        }
      ]
    },
    {
      "cell_type": "code",
      "source": [
        "# Make predictions on the test set\n",
        "test_predictions = model.predict(test_data.drop(['ID', 'Overall_Experience'], axis=1))"
      ],
      "metadata": {
        "id": "g9PjYDFGETQz"
      },
      "execution_count": null,
      "outputs": []
    },
    {
      "cell_type": "code",
      "source": [
        "# Create submission file\n",
        "submission = pd.DataFrame({'ID': test_data['ID'], 'Overall_Experience': test_predictions})\n",
        "submission.to_csv('Submission_File.csv', index=False)"
      ],
      "metadata": {
        "id": "qDixYbKtEV9p"
      },
      "execution_count": null,
      "outputs": []
    },
    {
      "cell_type": "code",
      "source": [
        "import pandas as pd\n",
        "from sklearn.model_selection import train_test_split\n",
        "from sklearn.ensemble import RandomForestClassifier\n",
        "from sklearn.impute import KNNImputer\n",
        "from sklearn.metrics import accuracy_score\n",
        "\n",
        "# Load data\n",
        "# Load the training data\n",
        "train_travel = pd.read_csv('/content/drive/MyDrive/MIT Applied Data Science /11. Hackathons/Shinkansen Bullet Train in Japan/Traveldata_train_.csv')\n",
        "train_survey = pd.read_csv('/content/drive/MyDrive/MIT Applied Data Science /11. Hackathons/Shinkansen Bullet Train in Japan/Surveydata_train_.csv')\n",
        "\n",
        "test_travel = pd.read_csv('/content/drive/MyDrive/MIT Applied Data Science /11. Hackathons/Shinkansen Bullet Train in Japan/Traveldata_test_.csv')\n",
        "test_survey = pd.read_csv('/content/drive/MyDrive/MIT Applied Data Science /11. Hackathons/Shinkansen Bullet Train in Japan/Surveydata_test_.csv')\n",
        "\n",
        "# Merge data\n",
        "train_data = pd.merge(train_survey, train_travel, on='ID', how='inner')\n",
        "test_data = pd.merge(test_survey, test_travel, on='ID', how='inner')\n",
        "\n",
        "# Data Cleaning and Preprocessing with KNN imputation\n",
        "numerical_columns = train_data.select_dtypes(include=['float64']).columns\n",
        "\n",
        "# Concatenate the train and test datasets before one-hot encoding\n",
        "combined_data = pd.concat([train_data, test_data], ignore_index=True)\n",
        "\n",
        "# Impute missing values using KNN\n",
        "imputer = KNNImputer(n_neighbors=5)\n",
        "combined_data[numerical_columns] = imputer.fit_transform(combined_data[numerical_columns])\n",
        "\n",
        "# Encode categorical variables using one-hot encoding\n",
        "combined_data = pd.get_dummies(combined_data, columns=[\"Gender\", \"Customer_Type\", \"Type_Travel\", \"Travel_Class\",\n",
        "                                                       'Seat_Comfort', 'Seat_Class', 'Arrival_Time_Convenient', 'Catering',\n",
        "                                                       'Platform_Location', 'Onboard_Wifi_Service', 'Onboard_Entertainment',\n",
        "                                                       'Online_Support', 'Ease_of_Online_Booking', 'Onboard_Service',\n",
        "                                                       'Legroom', 'Baggage_Handling', 'CheckIn_Service', 'Cleanliness',\n",
        "                                                       'Online_Boarding'])\n",
        "\n",
        "# Split the combined dataset back into train and test sets\n",
        "train_data = combined_data.iloc[:len(train_data), :]\n",
        "test_data = combined_data.iloc[len(train_data):, :]\n",
        "\n",
        "# Feature engineering (if necessary)\n",
        "\n",
        "# Train-test split\n",
        "X = train_data.drop(['ID', 'Overall_Experience'], axis=1)\n",
        "y = train_data['Overall_Experience']\n",
        "X_train, X_val, y_train, y_val = train_test_split(X, y, test_size=0.2, random_state=42)\n",
        "\n",
        "# Build a Random Forest model (you can choose a different model)\n",
        "model = RandomForestClassifier()\n",
        "model.fit(X_train, y_train)\n",
        "\n",
        "# Make predictions on the validation set\n",
        "val_predictions = model.predict(X_val)\n",
        "\n",
        "# Evaluate the model\n",
        "accuracy = accuracy_score(y_val, val_predictions)\n",
        "print(f'Validation Accuracy: {accuracy}')\n",
        "\n",
        "# Make predictions on the test set\n",
        "test_predictions = model.predict(test_data.drop(['ID', 'Overall_Experience'], axis=1))\n",
        "\n",
        "# Create submission file\n",
        "submission = pd.DataFrame({'ID': test_data['ID'], 'Overall_Experience': test_predictions})\n",
        "submission.to_csv('Submission_File.csv', index=False)\n"
      ],
      "metadata": {
        "colab": {
          "base_uri": "https://localhost:8080/"
        },
        "id": "SaQNhiriDZaK",
        "outputId": "18f8f5b7-988d-43b0-86e5-3c3ac423c854"
      },
      "execution_count": null,
      "outputs": [
        {
          "output_type": "stream",
          "name": "stdout",
          "text": [
            "Validation Accuracy: 0.9525323161686798\n"
          ]
        }
      ]
    },
    {
      "cell_type": "code",
      "source": [
        "from google.colab import drive\n",
        "\n",
        "# Mount Google Drive\n",
        "drive.mount('/content/drive')"
      ],
      "metadata": {
        "colab": {
          "base_uri": "https://localhost:8080/"
        },
        "id": "0Qts7h8NFqM5",
        "outputId": "f7b44fcb-43b0-4265-c516-6d9bd8cea5d9"
      },
      "execution_count": null,
      "outputs": [
        {
          "output_type": "stream",
          "name": "stdout",
          "text": [
            "Drive already mounted at /content/drive; to attempt to forcibly remount, call drive.mount(\"/content/drive\", force_remount=True).\n"
          ]
        }
      ]
    },
    {
      "cell_type": "code",
      "source": [
        "import pandas as pd\n",
        "from sklearn.model_selection import train_test_split\n",
        "from sklearn.ensemble import RandomForestClassifier\n",
        "from sklearn.impute import KNNImputer\n",
        "from sklearn.metrics import accuracy_score\n",
        "\n",
        "# Load data\n",
        "# Load the training data\n",
        "train_travel = pd.read_csv('/content/drive/MyDrive/MIT Applied Data Science /11. Hackathons/Shinkansen Bullet Train in Japan/Traveldata_train_.csv')\n",
        "train_survey = pd.read_csv('/content/drive/MyDrive/MIT Applied Data Science /11. Hackathons/Shinkansen Bullet Train in Japan/Surveydata_train_.csv')\n",
        "\n",
        "test_travel = pd.read_csv('/content/drive/MyDrive/MIT Applied Data Science /11. Hackathons/Shinkansen Bullet Train in Japan/Traveldata_test_.csv')\n",
        "test_survey = pd.read_csv('/content/drive/MyDrive/MIT Applied Data Science /11. Hackathons/Shinkansen Bullet Train in Japan/Surveydata_test_.csv')\n",
        "\n",
        "# Merge data\n",
        "train_data = pd.merge(train_survey, train_travel, on='ID', how='inner')\n",
        "test_data = pd.merge(test_survey, test_travel, on='ID', how='inner')\n",
        "\n",
        "# Data Cleaning and Preprocessing with KNN imputation\n",
        "numerical_columns = train_data.select_dtypes(include=['float64']).columns\n",
        "\n",
        "# Split the datasets before imputation\n",
        "train_data, test_data = train_data.set_index('ID'), test_data.set_index('ID')\n",
        "\n",
        "# Concatenate the train and test datasets before one-hot encoding\n",
        "combined_data = pd.concat([train_data, test_data], ignore_index=True)\n",
        "\n",
        "# Impute missing values using KNN\n",
        "imputer = KNNImputer(n_neighbors=3)\n",
        "combined_data[numerical_columns] = imputer.fit_transform(combined_data[numerical_columns])\n",
        "\n",
        "# Encode categorical variables using one-hot encoding\n",
        "combined_data = pd.get_dummies(combined_data, columns=[\"Gender\", \"Customer_Type\", \"Type_Travel\", \"Travel_Class\",\n",
        "                                                       'Seat_Comfort', 'Seat_Class', 'Arrival_Time_Convenient', 'Catering',\n",
        "                                                       'Platform_Location', 'Onboard_Wifi_Service', 'Onboard_Entertainment',\n",
        "                                                       'Online_Support', 'Ease_of_Online_Booking', 'Onboard_Service',\n",
        "                                                       'Legroom', 'Baggage_Handling', 'CheckIn_Service', 'Cleanliness',\n",
        "                                                       'Online_Boarding'])\n",
        "\n",
        "# Split the combined dataset back into train and test sets\n",
        "train_data, test_data = combined_data.iloc[:len(train_data), :], combined_data.iloc[len(train_data):, :]\n",
        "\n",
        "# Feature engineering (if necessary)\n",
        "\n",
        "# Train-test split\n",
        "X = train_data.drop(['Overall_Experience'], axis=1)\n",
        "y = train_data['Overall_Experience']\n",
        "X_train, X_val, y_train, y_val = train_test_split(X, y, test_size=0.2, random_state=42)\n",
        "\n",
        "# Build a Random Forest model\n",
        "rf_model = RandomForestClassifier(max_depth=None, min_samples_leaf=1, min_samples_split=2, n_estimators=100)\n",
        "\n",
        "# Train the model\n",
        "rf_model.fit(X_train, y_train)\n",
        "\n",
        "# Make predictions on the validation set\n",
        "val_predictions = rf_model.predict(X_val)\n",
        "\n",
        "# Evaluate the model\n",
        "accuracy = accuracy_score(y_val, val_predictions)\n",
        "print(f'Validation Accuracy: {accuracy}')\n",
        "\n",
        "# Make predictions on the test set\n",
        "test_predictions = rf_model.predict(test_data.drop(['Overall_Experience'], axis=1))\n",
        "\n",
        "# Create submission file\n",
        "submission = pd.DataFrame({'ID': test_data.index, 'Overall_Experience': test_predictions})\n",
        "submission.to_csv('Submission_File_RandomForest.csv', index=False)\n",
        "\n"
      ],
      "metadata": {
        "colab": {
          "base_uri": "https://localhost:8080/"
        },
        "id": "Lqd8pVwBEp_m",
        "outputId": "8f7385f7-aab3-44cd-87f1-6e5b3a69a2a0"
      },
      "execution_count": null,
      "outputs": [
        {
          "output_type": "stream",
          "name": "stdout",
          "text": [
            "Validation Accuracy: 0.9528501801229073\n"
          ]
        }
      ]
    }
  ]
}